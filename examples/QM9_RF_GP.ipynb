{
 "cells": [
  {
   "cell_type": "code",
   "execution_count": 2,
   "metadata": {},
   "outputs": [],
   "source": [
    "# Standard imports\n",
    "import numpy as np\n",
    "import seaborn as sns\n",
    "sns.set()\n",
    "import pandas as pd\n",
    "\n",
    "\n",
    "# SMLB imports\n",
    "# from smlb.learners.scikit_learn.random_forest_regression_sklearn import RandomForestRegressionSklearn\n",
    "# from smlb.learners.lolo.random_forest_regression_lolo import RandomForestRegressionLolo\n",
    "# from smlb.learners.scikit_learn.gaussian_process_regression_sklearn import GaussianProcessRegressionSklearn\n",
    "# from smlb.features.matminer_composition import MatminerCompositionFeatures\n",
    "# from smlb.core.metrics import RootMeanSquaredError, MeanLogPredictiveDensity\n",
    "# from smlb import IdentityFeatures\n",
    "# from smlb.core.metrics import UncertaintyCorrelation, StandardConfidence, RootMeanSquareStandardizedResiduals"
   ]
  },
  {
   "cell_type": "markdown",
   "metadata": {},
   "source": [
    "# Import dataset and examine"
   ]
  },
  {
   "cell_type": "code",
   "execution_count": null,
   "metadata": {},
   "outputs": [],
   "source": [
    "from deepchem.feat import MolecularFeaturizer as DeepChemMolecularFeaturizer\n",
    "from smlb.core.features import Features\n",
    "from smlb import params\n",
    "from smlb.core.data import Data\n",
    "from smlb.core.tabular_data import TabularData\n",
    "\n",
    "class DeepChemFeaturizer(Features):\n",
    "    def __init__(\n",
    "        self,\n",
    "        dc_featurizer: DeepChemMolecularFeaturizer,\n",
    "        **kwargs\n",
    "    ):\n",
    "    \n",
    "        super().__init__(**kwargs)\n",
    "        self.dc_featurizer = dc_featurizer\n",
    "        \n",
    "    def apply(self, data: Data) -> TabularData:\n",
    "        \n",
    "        data = params.instance(data, Data)\n",
    "\n",
    "        features = self.dc_featurizer.featurize(data.samples())\n",
    "        \n",
    "        result = (\n",
    "            TabularData(data=features, labels=data.labels())\n",
    "            if data.is_labeled\n",
    "            else TabularData(data=features)\n",
    "        )\n",
    "        \n",
    "        return result"
   ]
  },
  {
   "cell_type": "code",
   "execution_count": 3,
   "metadata": {},
   "outputs": [],
   "source": [
    "prop = 'homo'"
   ]
  },
  {
   "cell_type": "markdown",
   "metadata": {},
   "source": [
    "Here, we've selected the LUMO (Lowest Unoccupied Molecular Orbital) property from QM9. This is a measure of the thermodynamic tendency for the molecule to be reduced (accept an electron), and is an important property for electrochemical applications. In this example, we'll seek to find molecules which minimize the LUMO."
   ]
  },
  {
   "cell_type": "code",
   "execution_count": 15,
   "metadata": {},
   "outputs": [],
   "source": [
    "from smlb.datasets.experimental.qm9_ramakrishnan_etal14.qm9_ramakrishnan_etal14 import Qm9RamakrishnanEtAl2014Dataset\n",
    "_qm9_filename = '/Users/jkoeller/Git Repos/smlb/datasets/experimental/qm9_ramakrishnan_etal14/gdb9-14b.zip'\n",
    "QM9_dataset = Qm9RamakrishnanEtAl2014Dataset(source=_qm9_filename, samplef=lambda arg: arg[\"smiles_gdb9\"], labelf=lambda arg:arg[prop])"
   ]
  },
  {
   "cell_type": "code",
   "execution_count": 16,
   "metadata": {},
   "outputs": [
    {
     "data": {
      "text/plain": [
       "array([('C',), ('N',)], dtype=[('Samples', 'O')])"
      ]
     },
     "execution_count": 16,
     "metadata": {},
     "output_type": "execute_result"
    }
   ],
   "source": [
    "QM9_dataset.samples()[0:2]"
   ]
  },
  {
   "cell_type": "code",
   "execution_count": 17,
   "metadata": {},
   "outputs": [],
   "source": [
    "# This really shouldn't be needed.\n",
    "# I don't understand where we specify which of the inputs we want to be the \"smiles\" input,\n",
    "# And which of the outputs is the output of interest, \n",
    "# OR how to just get a single label or input.\n",
    "QM9_dataset = TabularData(data=np.array([v[0] for v in QM9_dataset.samples()]), labels=np.array([v[0] for v in QM9_dataset.labels()]))"
   ]
  },
  {
   "cell_type": "code",
   "execution_count": 18,
   "metadata": {},
   "outputs": [],
   "source": [
    "from deepchem.feat import RDKitDescriptors\n",
    "dcfeat = DeepChemFeaturizer(RDKitDescriptors())"
   ]
  },
  {
   "cell_type": "code",
   "execution_count": 19,
   "metadata": {},
   "outputs": [],
   "source": [
    "# This will take a few minutes\n",
    "QM9_featurized = dcfeat.apply(QM9_dataset)"
   ]
  },
  {
   "cell_type": "code",
   "execution_count": 20,
   "metadata": {},
   "outputs": [],
   "source": [
    "pickle.dump(QM9_featurized, open(f'/Users/jkoeller/Git Repos/smlb/datasets/experimental/qm9_ramakrishnan_etal14/QM9_RDKitDescriptorsFeatures_{prop}.p', 'wb'))"
   ]
  },
  {
   "cell_type": "code",
   "execution_count": 4,
   "metadata": {},
   "outputs": [],
   "source": [
    "# Start here if you are loading a pre-featurized version of the dataset\n",
    "QM9_featurized = pickle.load(open(f'/Users/jkoeller/Git Repos/smlb/datasets/experimental/qm9_ramakrishnan_etal14/QM9_RDKitDescriptorsFeatures_{prop}.p', 'rb'))"
   ]
  },
  {
   "cell_type": "code",
   "execution_count": 5,
   "metadata": {},
   "outputs": [
    {
     "data": {
      "text/plain": [
       "(133885,)"
      ]
     },
     "execution_count": 5,
     "metadata": {},
     "output_type": "execute_result"
    }
   ],
   "source": [
    "QM9_featurized.labels().shape"
   ]
  },
  {
   "cell_type": "code",
   "execution_count": 6,
   "metadata": {},
   "outputs": [
    {
     "data": {
      "image/png": "[encoded data removed]",
      "text/plain": [
       "<Figure size 432x288 with 1 Axes>"
      ]
     },
     "metadata": {
      "needs_background": "light"
     },
     "output_type": "display_data"
    }
   ],
   "source": [
    "# Examine\n",
    "sns.distplot(QM9_featurized.labels())\n",
    "plt.show()"
   ]
  },
  {
   "cell_type": "code",
   "execution_count": 7,
   "metadata": {},
   "outputs": [
    {
     "data": {
      "image/png": "[encoded data removed]",
      "text/plain": [
       "<Figure size 432x288 with 1 Axes>"
      ]
     },
     "metadata": {
      "needs_background": "light"
     },
     "output_type": "display_data"
    }
   ],
   "source": [
    "# Examine the high-performers specifically (low LUMO)\n",
    "sns.distplot(np.sort(QM9_featurized.labels())[:20], kde=False)\n",
    "plt.show()"
   ]
  }
 ],
 "metadata": {
  "kernelspec": {
   "display_name": "Python 3.7.4 64-bit ('citrine': conda)",
   "language": "python",
   "name": "python37464bitcitrineconda4dfc42f315534d8ebb8bd008f9aee6d4"
  },
  "language_info": {
   "codemirror_mode": {
    "name": "ipython",
    "version": 3
   },
   "file_extension": ".py",
   "mimetype": "text/x-python",
   "name": "python",
   "nbconvert_exporter": "python",
   "pygments_lexer": "ipython3",
   "version": "3.7.4"
  }
 },
 "nbformat": 4,
 "nbformat_minor": 4
}
